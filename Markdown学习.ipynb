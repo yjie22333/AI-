{
 "cells": [
  {
   "cell_type": "markdown",
   "metadata": {},
   "source": [
    "# hellow world"
   ]
  },
  {
   "cell_type": "markdown",
   "metadata": {},
   "source": [
    " 一级标题\n",
    " ==="
   ]
  },
  {
   "cell_type": "markdown",
   "metadata": {},
   "source": [
    "二级标题\n",
    "-----"
   ]
  },
  {
   "cell_type": "markdown",
   "metadata": {},
   "source": [
    "# 一级标题"
   ]
  },
  {
   "cell_type": "markdown",
   "metadata": {},
   "source": [
    "## 二级标题"
   ]
  },
  {
   "cell_type": "markdown",
   "metadata": {},
   "source": [
    "### 三级标题"
   ]
  },
  {
   "cell_type": "markdown",
   "metadata": {},
   "source": [
    "#### 四级标题"
   ]
  },
  {
   "cell_type": "markdown",
   "metadata": {},
   "source": [
    "##### 五级标题"
   ]
  },
  {
   "cell_type": "markdown",
   "metadata": {},
   "source": [
    "段落：两个以上空格加回车\n",
    "\n",
    "这样"
   ]
  },
  {
   "cell_type": "markdown",
   "metadata": {},
   "source": [
    "*斜体*"
   ]
  },
  {
   "cell_type": "markdown",
   "metadata": {},
   "source": [
    "__粗体__"
   ]
  },
  {
   "cell_type": "markdown",
   "metadata": {},
   "source": [
    "___粗斜体___"
   ]
  },
  {
   "cell_type": "markdown",
   "metadata": {},
   "source": [
    "***粗斜体***"
   ]
  },
  {
   "cell_type": "markdown",
   "metadata": {},
   "source": [
    "***\n",
    "星号\n",
    "---\n",
    "减号\n",
    "___\n",
    "底线\n",
    "_ _ _\n",
    "建立分割线"
   ]
  },
  {
   "cell_type": "markdown",
   "metadata": {},
   "source": [
    "星号\n",
    "***"
   ]
  },
  {
   "cell_type": "markdown",
   "metadata": {},
   "source": [
    "减号\n",
    "---"
   ]
  },
  {
   "cell_type": "markdown",
   "metadata": {},
   "source": [
    "---\n",
    "减号"
   ]
  },
  {
   "cell_type": "markdown",
   "metadata": {},
   "source": [
    "<u>下划线《》<u>"
   ]
  },
  {
   "cell_type": "markdown",
   "metadata": {},
   "source": [
    "添加脚注[^joker]\n",
    "\n",
    "\n",
    "\n",
    "[^joker]:在下常用的中二ID"
   ]
  },
  {
   "cell_type": "markdown",
   "metadata": {},
   "source": [
    "1. 第一项：\n",
    "    - 第一项嵌套的第一个元素\n",
    "    + 第一项嵌套的第二个元素\n",
    "2. 第二项：\n",
    "    * 第二项嵌套的第一个元素\n",
    "    - 第二项嵌套的第二个元素"
   ]
  },
  {
   "cell_type": "markdown",
   "metadata": {},
   "source": [
    "> 使用区块\n",
    ">> 像这样"
   ]
  },
  {
   "cell_type": "markdown",
   "metadata": {},
   "source": [
    "> 函数\n",
    "    `print()`用的是反括号"
   ]
  },
  {
   "cell_type": "markdown",
   "metadata": {},
   "source": [
    "代码区块\n",
    "___\n",
    "    < python\n",
    "    print(a-b)"
   ]
  },
  {
   "cell_type": "code",
   "execution_count": null,
   "metadata": {},
   "outputs": [],
   "source": []
  },
  {
   "cell_type": "code",
   "execution_count": null,
   "metadata": {},
   "outputs": [],
   "source": []
  }
 ],
 "metadata": {
  "kernelspec": {
   "display_name": "Python 3",
   "language": "python",
   "name": "python3"
  },
  "language_info": {
   "codemirror_mode": {
    "name": "ipython",
    "version": 3
   },
   "file_extension": ".py",
   "mimetype": "text/x-python",
   "name": "python",
   "nbconvert_exporter": "python",
   "pygments_lexer": "ipython3",
   "version": "3.8.3"
  }
 },
 "nbformat": 4,
 "nbformat_minor": 4
}
