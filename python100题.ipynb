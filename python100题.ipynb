{
 "cells": [
  {
   "cell_type": "markdown",
   "metadata": {},
   "source": [
    "### 一\n",
    "___\n",
    "编写一个程序，找出所有能被7整除但不是5的倍数的数，2000到3200之间(都包括在内)。  得到的数字应该以逗号分隔的顺序打印在一行上。\n",
    "\n",
    "\n",
    ">> - *循环*\n",
    "- return 只能在def里面使用  \n",
    "- join() 方法用于将序列中的元素以指定的字符连接生成一个新的字符串。"
   ]
  },
  {
   "cell_type": "code",
   "execution_count": 43,
   "metadata": {},
   "outputs": [
    {
     "name": "stdout",
     "output_type": "stream",
     "text": [
      "2030,2065,2100,2135,2170,2205,2240,2275,2310,2345,2380,2415,2450,2485,2520,2555,2590,2625,2660,2695,2730,2765,2800,2835,2870,2905,2940,2975,3010,3045,3080,3115,3150,3185\n"
     ]
    }
   ],
   "source": [
    "l = []\n",
    "for i in range(2000,3200):\n",
    "    if i % 7 ==0 and i % 5 ==0 :\n",
    "        l.append(str(i))\n",
    "print(\",\".join(l))"
   ]
  },
  {
   "cell_type": "markdown",
   "metadata": {},
   "source": [
    "### 贰\n",
    "___\n",
    "编写一个可以计算给定数字的阶乘的程序。  结果应该以逗号分隔的顺序打印在一行上。 \n",
    "\n",
    "假设向程序提供以下输入: 8      \n",
    "  则输出为:    40320\n",
    "\n",
    "　　如果向问题提供输入数据，则应该将其视为控制台输入。\n",
    ">>阶乘-递归"
   ]
  },
  {
   "cell_type": "code",
   "execution_count": 49,
   "metadata": {},
   "outputs": [
    {
     "name": "stdout",
     "output_type": "stream",
     "text": [
      "输入数字8\n",
      "40320\n"
     ]
    }
   ],
   "source": [
    "\n",
    "def No_2(n):\n",
    "    if n ==0 :\n",
    "        return o\n",
    "    if n == 1:\n",
    "        return 1\n",
    "    else :\n",
    "        return n*No_2(n-1)\n",
    "       \n",
    "n = int(input(\"输入数字\"))\n",
    "print(No_2(n))\n"
   ]
  },
  {
   "cell_type": "markdown",
   "metadata": {},
   "source": [
    "### 叁   \n",
    "___\n",
    "对于给定的整数n，编写一个程序来生成一个字典，其中包含(i, i*i)一个在1和n之间的整数(都包含在内)。然后程序应该打印字典。   \n",
    "假设向程序提供以下输入:8  则输出为:  {1: 1, 2: 4, 3: 9, 4: 16, 5: 25, 6: 36, 7: 49, 8: 64}\n",
    ">>字典"
   ]
  },
  {
   "cell_type": "code",
   "execution_count": 54,
   "metadata": {},
   "outputs": [
    {
     "data": {
      "text/plain": [
       "{1: 1, 2: 4, 3: 9, 4: 16, 5: 25, 6: 36, 7: 49, 8: 64}"
      ]
     },
     "execution_count": 54,
     "metadata": {},
     "output_type": "execute_result"
    }
   ],
   "source": [
    "#思路： 要先考虑索引，先确定索引，再确定值\n",
    "def dic(n):\n",
    "    di = {}\n",
    "    for i in range(1,n+1):        \n",
    "        di[i] = i*i\n",
    "    return di\n",
    "dic(8)"
   ]
  },
  {
   "cell_type": "markdown",
   "metadata": {},
   "source": [
    "### 肆\n",
    "***\n",
    "编写一个程序，接受来自控制台的逗号分隔的数字序列，并生成一个包含每个数字的列表和元组。   \n",
    "  假设向程序提供以下输入: 34,67,55,33,12,98  则输出为：   ['34', '67', '55', '33', '12', '98']    ('34', '67', '55', '33', '12', '98')"
   ]
  },
  {
   "cell_type": "code",
   "execution_count": null,
   "metadata": {},
   "outputs": [],
   "source": []
  },
  {
   "cell_type": "code",
   "execution_count": null,
   "metadata": {},
   "outputs": [],
   "source": []
  }
 ],
 "metadata": {
  "kernelspec": {
   "display_name": "Python 3",
   "language": "python",
   "name": "python3"
  },
  "language_info": {
   "codemirror_mode": {
    "name": "ipython",
    "version": 3
   },
   "file_extension": ".py",
   "mimetype": "text/x-python",
   "name": "python",
   "nbconvert_exporter": "python",
   "pygments_lexer": "ipython3",
   "version": "3.8.3"
  }
 },
 "nbformat": 4,
 "nbformat_minor": 4
}
