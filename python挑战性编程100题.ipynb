{
 "cells": [
  {
   "cell_type": "markdown",
   "metadata": {},
   "source": [
    "### 一\n",
    "___\n",
    "编写一个程序，找出所有能被7整除但不是5的倍数的数，2000到3200之间(都包括在内)。  得到的数字应该以逗号分隔的顺序打印在一行上。\n",
    "\n",
    "\n",
    ">> - *循环*\n",
    "- return 只能在def里面使用  \n",
    "- join() 方法用于将序列中的元素以指定的字符连接生成一个新的字符串。"
   ]
  },
  {
   "cell_type": "code",
   "execution_count": 1,
   "metadata": {},
   "outputs": [
    {
     "name": "stdout",
     "output_type": "stream",
     "text": [
      "2030,2065,2100,2135,2170,2205,2240,2275,2310,2345,2380,2415,2450,2485,2520,2555,2590,2625,2660,2695,2730,2765,2800,2835,2870,2905,2940,2975,3010,3045,3080,3115,3150,3185\n"
     ]
    }
   ],
   "source": [
    "l = []\n",
    "for i in range(2000,3200):\n",
    "    if i % 7 ==0 and i % 5 ==0 :\n",
    "        l.append(str(i))\n",
    "print(\",\".join(l))"
   ]
  },
  {
   "cell_type": "markdown",
   "metadata": {},
   "source": [
    "### 贰\n",
    "___\n",
    "编写一个可以计算给定数字的阶乘的程序。  结果应该以逗号分隔的顺序打印在一行上。 \n",
    "\n",
    "假设向程序提供以下输入: 8      \n",
    "  则输出为:    40320\n",
    "\n",
    "　　如果向问题提供输入数据，则应该将其视为控制台输入。\n",
    ">>阶乘-递归"
   ]
  },
  {
   "cell_type": "code",
   "execution_count": 1,
   "metadata": {},
   "outputs": [
    {
     "name": "stdout",
     "output_type": "stream",
     "text": [
      "输入数字4\n",
      "24\n"
     ]
    }
   ],
   "source": [
    "\n",
    "def No_2(n):\n",
    "    if n ==0 :\n",
    "        return o\n",
    "    if n == 1:\n",
    "        return 1\n",
    "    else :\n",
    "        return n*No_2(n-1)\n",
    "       \n",
    "n = int(input(\"输入数字\"))\n",
    "print(No_2(n))\n"
   ]
  },
  {
   "cell_type": "markdown",
   "metadata": {},
   "source": [
    "### 叁   \n",
    "___\n",
    "对于给定的整数n，编写一个程序来生成一个字典，其中包含(i, i*i)一个在1和n之间的整数(都包含在内)。然后程序应该打印字典。   \n",
    "假设向程序提供以下输入:8  则输出为:  {1: 1, 2: 4, 3: 9, 4: 16, 5: 25, 6: 36, 7: 49, 8: 64}\n",
    ">>字典"
   ]
  },
  {
   "cell_type": "code",
   "execution_count": null,
   "metadata": {},
   "outputs": [],
   "source": [
    "#思路： 要先考虑索引，先确定索引，再确定值\n",
    "def dic(n):\n",
    "    di = {}\n",
    "    for i in range(1,n+1):        \n",
    "        di[i] = i*i\n",
    "    return di\n",
    "dic(8)"
   ]
  },
  {
   "cell_type": "markdown",
   "metadata": {},
   "source": [
    "### 肆\n",
    "***\n",
    "编写一个程序，接受来自控制台的逗号分隔的数字序列，并生成一个包含每个数字的列表和元组。   \n",
    "  假设向程序提供以下输入: 34,67,55,33,12,98  则输出为：   ['34', '67', '55', '33', '12', '98']    ('34', '67', '55', '33', '12', '98')"
   ]
  },
  {
   "cell_type": "code",
   "execution_count": null,
   "metadata": {},
   "outputs": [],
   "source": [
    "s = input(\"请输入序列\")\n",
    "print(s.split(\",\"))\n",
    "print(tuple(s.split(\",\")))"
   ]
  },
  {
   "cell_type": "markdown",
   "metadata": {},
   "source": [
    "### 伍\n",
    "***\n",
    " 定义一个至少有两个方法的类: 　　getString:从控制台输入获取字符串 　　打印字符串:打印字符串的大写字母。还请包含简单的测试函数来测试类方法。\n",
    "使用_init__方法构造一些参数    （直接一个uppper不可以吗？？）"
   ]
  },
  {
   "cell_type": "code",
   "execution_count": null,
   "metadata": {},
   "outputs": [],
   "source": [
    "class sstr:\n",
    "    def __init__(self):   \n",
    "        \n",
    "        self.s = ''\n",
    "        \n",
    "    def pr(self):\n",
    "                \n",
    "       \n",
    "        self.s = input(\"zifuchuan\")\n",
    "        \n",
    "    def pd(self):\n",
    "        \n",
    "        print(self.s.upper())\n",
    "     \n",
    "        \n",
    "#     def prinstr(self,grtstr):\n",
    "#         self.getstr\n",
    "\n",
    "s = sstr()\n",
    "s.pr()\n",
    "\n",
    "s.pd()"
   ]
  },
  {
   "cell_type": "markdown",
   "metadata": {},
   "source": [
    "### 陆\n",
    "***\n",
    "编写一个程序，计算和打印的价值根据给定的公式:　　Q =√[(2 * C * D)/H]　　以下是C和H的固定值:  C是50。H是30。　　D是一个变量，它的值应该以逗号分隔的序列输入到程序中。　　\n",
    "\n",
    "　　例子-假设程序的输入序列是逗号分隔的: 100,150,180  则输出为：18,22,24\n",
    "\n",
    "　   如果接收到的输出是十进制的，则应四舍五入到其最接近的值(例如，如果接收到的输出是26.0，则应打印为26)\n",
    "    \n",
    "> 生成器方法\n",
    ">   \n",
    "括号要检查\n"
   ]
  },
  {
   "cell_type": "code",
   "execution_count": null,
   "metadata": {},
   "outputs": [],
   "source": [
    "l = list()\n",
    "value = [x for x in input().split(',')]\n",
    "\n",
    "\n",
    "for x in value :\n",
    "    l.append(str(int(((2*50*float(x)/30)**0.5))))\n",
    "\n",
    "l\n",
    "print(type(l[0]))\n"
   ]
  },
  {
   "cell_type": "markdown",
   "metadata": {},
   "source": [
    "### 柒\n",
    "***\n",
    "编写一个程序，以2位数字X,Y为输入，生成一个二维数组。数组的第i行和第j列的元素值应该是i*j。　注意: i= 0,1 . .,x - 1;j = 0, 1,¡­Y-1。\n",
    "\n",
    "　  例子--假设程序有以下输入:3,5 输出 [[0, 0, 0, 0, 0], [0, 1, 2, 3, 4], [0, 2, 4, 6, 8]]\n",
    ">eval() 可以初始化字符串，传出来是int\n",
    "  "
   ]
  },
  {
   "cell_type": "code",
   "execution_count": 46,
   "metadata": {},
   "outputs": [
    {
     "name": "stdout",
     "output_type": "stream",
     "text": [
      "输入行列2,3\n",
      "--li-- []\n",
      "***维度*iii这是第0次循环\n",
      "--------------\n",
      "***列**jjj这是第0***\n",
      "这是li [0]\n",
      "***列**jjj这是第1***\n",
      "这是li [0, 0]\n",
      "***列**jjj这是第2***\n",
      "这是li [0, 0, 0]\n",
      "--li-- []\n",
      "***维度*iii这是第1次循环\n",
      "--------------\n",
      "***列**jjj这是第0***\n",
      "这是li [0]\n",
      "***列**jjj这是第1***\n",
      "这是li [0, 1]\n",
      "***列**jjj这是第2***\n",
      "这是li [0, 1, 2]\n",
      "[[0, 0, 0], [0, 1, 2]]\n"
     ]
    }
   ],
   "source": [
    "x,y = eval(input(\"输入行列\"))\n",
    "\n",
    "l = []\n",
    "for i in range(x):\n",
    "    li = []\n",
    "    print(\"--li--\",li)\n",
    "    print(\"***维度*iii这是第%d次循环\"%i)\n",
    "    print('--------------')\n",
    "    for j in range(y):\n",
    "        print(\"***列**jjj这是第%d***\"%j)\n",
    "        li.append(i*j)\n",
    "        print(\"这是li\",li)\n",
    "    l.append(li)\n",
    "print(l)"
   ]
  },
  {
   "cell_type": "markdown",
   "metadata": {},
   "source": [
    "### 捌\n",
    "***\n",
    "编写一个程序，接受逗号分隔的单词序列作为输入，并在按字母顺序排序后以逗号分隔的序列打印单词。\n",
    "\n",
    "　   假设向程序提供以下输入:  without,hello,bag,world    输出为: bag,hello,without,world\n",
    ">str.join(item)，join函数是一个字符串操作函数\n",
    "  将item以“”分开，再拼接成一个字符串"
   ]
  },
  {
   "cell_type": "code",
   "execution_count": 52,
   "metadata": {},
   "outputs": [],
   "source": [
    "#思路：解决逗号分隔，放入列表，之后就可以直接排序了"
   ]
  },
  {
   "cell_type": "code",
   "execution_count": null,
   "metadata": {},
   "outputs": [],
   "source": [
    "s = input(\"type your word:\")\n",
    "s = sorted(s.split(\",\"))\n",
    "print(','.join(s))"
   ]
  },
  {
   "cell_type": "code",
   "execution_count": 60,
   "metadata": {},
   "outputs": [
    {
     "name": "stdout",
     "output_type": "stream",
     "text": [
      "without,hello,bag,world\n",
      "bag,hello,without,world\n"
     ]
    }
   ],
   "source": [
    "items=[x for x in input().split(',')]\n",
    "items.sort()\n",
    "print(','.join(items))"
   ]
  },
  {
   "cell_type": "code",
   "execution_count": 62,
   "metadata": {},
   "outputs": [
    {
     "name": "stdout",
     "output_type": "stream",
     "text": [
      "without.hello.bag.world\n"
     ]
    }
   ],
   "source": [
    "s=['without','hello','bag','world']\n",
    "print(\".\".join(s))"
   ]
  },
  {
   "cell_type": "markdown",
   "metadata": {},
   "source": [
    "## 玖\n",
    "***\n",
    "2级\n",
    "问题:编写一个程序，接受一行序列作为输入，并在将句子中的所有字符大写后打印行。\n",
    "假设向程序提供以下输入:\n",
    "Hello world\n",
    "Practice makes perfect\n",
    "则输出为:\n",
    "HELLO WORLD\n",
    "PRACTICE MAKES PERFECT\n",
    "提示:在为问题提供输入数据的情况下，应该假设它是控制台输入。\n"
   ]
  },
  {
   "cell_type": "code",
   "execution_count": 68,
   "metadata": {},
   "outputs": [
    {
     "name": "stdout",
     "output_type": "stream",
     "text": [
      "HELLO WORLD PRACTICE MAKES PERFECT\n"
     ]
    }
   ],
   "source": [
    "# s = input(\"输入序列\")\n",
    "a = 'Hello world Practice makes perfect'\n",
    "print(a.upper())"
   ]
  },
  {
   "cell_type": "code",
   "execution_count": 69,
   "metadata": {},
   "outputs": [
    {
     "name": "stdout",
     "output_type": "stream",
     "text": [
      "输入序列hellow world\n",
      "HELLOW WORLD\n"
     ]
    }
   ],
   "source": [
    "s = input(\"输入序列\")\n",
    "print(s.upper())"
   ]
  },
  {
   "cell_type": "code",
   "execution_count": null,
   "metadata": {},
   "outputs": [],
   "source": []
  },
  {
   "cell_type": "code",
   "execution_count": null,
   "metadata": {},
   "outputs": [],
   "source": []
  }
 ],
 "metadata": {
  "kernelspec": {
   "display_name": "Python 3",
   "language": "python",
   "name": "python3"
  },
  "language_info": {
   "codemirror_mode": {
    "name": "ipython",
    "version": 3
   },
   "file_extension": ".py",
   "mimetype": "text/x-python",
   "name": "python",
   "nbconvert_exporter": "python",
   "pygments_lexer": "ipython3",
   "version": "3.8.3"
  }
 },
 "nbformat": 4,
 "nbformat_minor": 4
}
