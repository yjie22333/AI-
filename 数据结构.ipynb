{
 "cells": [
  {
   "cell_type": "markdown",
   "metadata": {},
   "source": [
    "# 冒泡排序\n",
    "___\n",
    "\n",
    "    交换相邻的数字，排序，复杂度O（n**n）"
   ]
  },
  {
   "cell_type": "code",
   "execution_count": 10,
   "metadata": {},
   "outputs": [
    {
     "name": "stdout",
     "output_type": "stream",
     "text": [
      "[1, 2, 3, 6, 8, 9]\n"
     ]
    }
   ],
   "source": [
    "# i 是序列arr每一个 ， j 是剩下的每一个\n",
    "def bible_sort(arr):\n",
    "    n = len(arr)\n",
    "    for i in range(n):\n",
    "        for j in range(i+1,n):\n",
    "            if arr[i] > arr[j]:\n",
    "                arr[i],arr[j] = arr[j], arr[i]\n",
    "    print(arr)\n",
    "                \n",
    "arr = [ 2,8,6,3,9,1]\n",
    "a = bible_sort(arr)\n",
    "a\n"
   ]
  },
  {
   "cell_type": "markdown",
   "metadata": {},
   "source": [
    "# 归并排序\n",
    "***\n",
    "    \n",
    "    先分开，再组合，排序，复杂度 ***O（n/log(n)）***"
   ]
  },
  {
   "cell_type": "code",
   "execution_count": 1,
   "metadata": {},
   "outputs": [],
   "source": [
    "arr = [2,3,6,4,88,45,22,85,89,11,100]"
   ]
  },
  {
   "cell_type": "code",
   "execution_count": 4,
   "metadata": {},
   "outputs": [
    {
     "data": {
      "text/plain": [
       "([2, 3, 6, 4, 88], [45, 22, 85, 89, 11, 100])"
      ]
     },
     "execution_count": 4,
     "metadata": {},
     "output_type": "execute_result"
    }
   ],
   "source": [
    "'''\n",
    "l:左边  m:中间  r:右边\n",
    "把数列分成左边和右边，比较大小\n",
    "'''\n",
    "arr = [2,3,6,4,88,45,22,85,89,11,100]\n",
    "\n",
    "#左边比右边大\n",
    "def merge_div(arr):\n",
    "    x = len(arr)//2\n",
    "    if x == 0 :\n",
    "        l = arr[0:x-1]\n",
    "        r = arr[x-1:]\n",
    "    else:\n",
    "        l = arr[0:x]\n",
    "        r = arr[x:]\n",
    "    return l , r\n",
    "\n",
    "merge_div(arr)\n",
    "    \n",
    "    \n",
    "def merge_s(arr):\n",
    "    while "
   ]
  },
  {
   "cell_type": "code",
   "execution_count": null,
   "metadata": {},
   "outputs": [],
   "source": []
  },
  {
   "cell_type": "code",
   "execution_count": null,
   "metadata": {},
   "outputs": [],
   "source": []
  },
  {
   "cell_type": "markdown",
   "metadata": {},
   "source": [
    " # 递归\n",
    " ***\n",
    "     调用它自己"
   ]
  },
  {
   "cell_type": "markdown",
   "metadata": {},
   "source": [
    "### 阶乘"
   ]
  },
  {
   "cell_type": "code",
   "execution_count": 56,
   "metadata": {},
   "outputs": [
    {
     "name": "stdout",
     "output_type": "stream",
     "text": [
      "你想知道那个数字的阶乘5\n",
      "120\n"
     ]
    }
   ],
   "source": [
    "def Ex(n):\n",
    "    \n",
    "    if n == 0 :\n",
    "        return 0\n",
    "    elif n == 1 :\n",
    "        return 1\n",
    "    else :\n",
    "        return n*Ex(n-1)\n",
    "n = int(input(\"你想知道那个数字的阶乘\"))\n",
    "print(Ex(n))"
   ]
  },
  {
   "cell_type": "markdown",
   "metadata": {},
   "source": [
    "### 斐波那契数列"
   ]
  },
  {
   "cell_type": "code",
   "execution_count": 45,
   "metadata": {},
   "outputs": [
    {
     "name": "stdout",
     "output_type": "stream",
     "text": [
      "你想知道斐波那契数列的第几个数？5\n",
      "5\n"
     ]
    }
   ],
   "source": [
    "# n = [ 1,1,2,3,5,8,13,21]\n",
    "\n",
    "\n",
    "def feb(n):\n",
    "\n",
    "    \n",
    "    \n",
    "    if n <= 2 :\n",
    "        return  1\n",
    "    else:\n",
    "        return feb(n-1)+feb(n-2)\n",
    "\n",
    "n = int(input(\"你想知道斐波那契数列的第几个数？\"))\n",
    "print(feb(n))\n"
   ]
  },
  {
   "cell_type": "markdown",
   "metadata": {},
   "source": [
    "# *数据结构——力扣*"
   ]
  },
  {
   "cell_type": "code",
   "execution_count": null,
   "metadata": {},
   "outputs": [],
   "source": [
    "class Solution:\n",
    "    def containsDuplicate(self, nums: List[int]) -> bool:\n",
    "        nums = sorted(nums)\n",
    "        for i in range(len(nums)-1):\n",
    "            if nums[i]==nums[i+1]:\n",
    "                return True\n",
    "            else:\n",
    "                return False"
   ]
  },
  {
   "cell_type": "markdown",
   "metadata": {},
   "source": [
    "反转数组"
   ]
  },
  {
   "cell_type": "code",
   "execution_count": 25,
   "metadata": {},
   "outputs": [
    {
     "name": "stdout",
     "output_type": "stream",
     "text": [
      "4\n",
      "[-1, -100]\n",
      "[3, 99]\n",
      "ii [3, 99, -1, -100]\n"
     ]
    }
   ],
   "source": [
    "list=[-1,-100,3,99]\n",
    "k=2\n",
    "s = len(list)\n",
    "print(s)\n",
    "b = s-k\n",
    "l = list[0:b]\n",
    "print(l)\n",
    "r = list[b:]\n",
    "print(r)\n",
    "m = r + l\n",
    "m\n",
    "h= list[len(list)-k:] +list[0:len(list)-k]\n",
    "print(\"ii\",h)"
   ]
  },
  {
   "cell_type": "markdown",
   "metadata": {},
   "source": [
    "存在重复元素"
   ]
  },
  {
   "cell_type": "code",
   "execution_count": 26,
   "metadata": {},
   "outputs": [],
   "source": [
    "nums = [1,1,1,3,3,4,3,2,4,2]"
   ]
  },
  {
   "cell_type": "code",
   "execution_count": 73,
   "metadata": {},
   "outputs": [
    {
     "name": "stdout",
     "output_type": "stream",
     "text": [
      "[1, 1, 1, 2, 2, 3, 3, 3, 4, 4]\n",
      "10\n"
     ]
    },
    {
     "ename": "SyntaxError",
     "evalue": "'return' outside function (<ipython-input-73-2a1d63155f32>, line 8)",
     "output_type": "error",
     "traceback": [
      "\u001b[1;36m  File \u001b[1;32m\"<ipython-input-73-2a1d63155f32>\"\u001b[1;36m, line \u001b[1;32m8\u001b[0m\n\u001b[1;33m    return True\u001b[0m\n\u001b[1;37m    ^\u001b[0m\n\u001b[1;31mSyntaxError\u001b[0m\u001b[1;31m:\u001b[0m 'return' outside function\n"
     ]
    }
   ],
   "source": [
    "nums = [1,1,1,3,3,4,3,2,4,2]\n",
    "nums = sorted(nums)\n",
    "print(nums)\n",
    "n = len(nums)\n",
    "print(n)\n",
    "for i in range(1,10):\n",
    "    if nums[i]==nums[i-1]:\n",
    "        return True\n",
    "    else:\n",
    "        return False"
   ]
  },
  {
   "cell_type": "code",
   "execution_count": null,
   "metadata": {},
   "outputs": [],
   "source": []
  }
 ],
 "metadata": {
  "kernelspec": {
   "display_name": "Python 3",
   "language": "python",
   "name": "python3"
  },
  "language_info": {
   "codemirror_mode": {
    "name": "ipython",
    "version": 3
   },
   "file_extension": ".py",
   "mimetype": "text/x-python",
   "name": "python",
   "nbconvert_exporter": "python",
   "pygments_lexer": "ipython3",
   "version": "3.8.3"
  }
 },
 "nbformat": 4,
 "nbformat_minor": 4
}
